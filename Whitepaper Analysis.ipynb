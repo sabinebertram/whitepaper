{
 "cells": [
  {
   "cell_type": "code",
   "execution_count": null,
   "metadata": {},
   "outputs": [],
   "source": [
    "import os"
   ]
  },
  {
   "cell_type": "code",
   "execution_count": null,
   "metadata": {},
   "outputs": [],
   "source": [
    "BASEDIR = '/home/sabine/git/whitepaper'\n",
    "WHITEPAPERDIR = os.path.join(BASEDIR, 'whitepaper_pdfs')"
   ]
  },
  {
   "cell_type": "markdown",
   "metadata": {},
   "source": [
    "## Scraper"
   ]
  },
  {
   "cell_type": "raw",
   "metadata": {},
   "source": [
    "from whitepaper.scraper import WhitepaperScraper"
   ]
  },
  {
   "cell_type": "raw",
   "metadata": {},
   "source": [
    "with open('Misc/ICO_company_names.txt', 'r') as f:\n",
    "    company_names = [i.strip() for i in f.readlines()]"
   ]
  },
  {
   "cell_type": "raw",
   "metadata": {},
   "source": [
    "ws = WhitepaperScraper()"
   ]
  },
  {
   "cell_type": "raw",
   "metadata": {},
   "source": [
    "(positives, negatives) = ws.scrape_many(company_names, WHITEPAPERDIR)"
   ]
  },
  {
   "cell_type": "markdown",
   "metadata": {},
   "source": [
    "## Preprocessing"
   ]
  },
  {
   "cell_type": "code",
   "execution_count": null,
   "metadata": {},
   "outputs": [],
   "source": [
    "from whitepaper.preprocessing import Preprocess"
   ]
  },
  {
   "cell_type": "code",
   "execution_count": null,
   "metadata": {},
   "outputs": [],
   "source": [
    "processor = Preprocess()"
   ]
  },
  {
   "cell_type": "code",
   "execution_count": null,
   "metadata": {},
   "outputs": [],
   "source": [
    "whitepaper_library = dict()\n",
    "for pdf in os.listdir(WHITEPAPERDIR):\n",
    "    company = pdf[:-4]\n",
    "    (pages, whitepaper) = processor.read(os.path.join(WHITEPAPERDIR, pdf))\n",
    "    tokenized_text = processor.tokenize(whitepaper)\n",
    "    whitepaper_library[company] = tokenized_text"
   ]
  },
  {
   "cell_type": "code",
   "execution_count": null,
   "metadata": {},
   "outputs": [],
   "source": [
    "tagged_documents = processor.create_tagged_documents(whitepaper_library)"
   ]
  },
  {
   "cell_type": "markdown",
   "metadata": {},
   "source": [
    "## Learn document vectors"
   ]
  },
  {
   "cell_type": "code",
   "execution_count": null,
   "metadata": {},
   "outputs": [],
   "source": [
    "import gensim"
   ]
  },
  {
   "cell_type": "code",
   "execution_count": null,
   "metadata": {},
   "outputs": [],
   "source": [
    "doc2vec_model = gensim.models.doc2vec.Doc2Vec(\n",
    "    tagged_documents, \n",
    "    dm = 1, \n",
    "    vector_size = 300, \n",
    "    window = 5, \n",
    "    min_count = 3, \n",
    "    workers = 4, \n",
    "    sample = 1e-3, \n",
    "    hs = 0, \n",
    "    negative = 5, \n",
    "    epochs = 10\n",
    ")"
   ]
  },
  {
   "cell_type": "markdown",
   "metadata": {},
   "source": [
    "## Compute Similarity"
   ]
  },
  {
   "cell_type": "code",
   "execution_count": null,
   "metadata": {},
   "outputs": [],
   "source": [
    "import pandas as pd\n",
    "from sklearn.metrics.pairwise import cosine_similarity, cosine_distances, euclidean_distances"
   ]
  },
  {
   "cell_type": "code",
   "execution_count": null,
   "metadata": {},
   "outputs": [],
   "source": [
    "whitepaper_vectors = dict()\n",
    "for company, _ in whitepaper_library.items():\n",
    "    whitepaper_vectors[company] = doc2vec_model[company]"
   ]
  },
  {
   "cell_type": "code",
   "execution_count": null,
   "metadata": {},
   "outputs": [],
   "source": [
    "whitepaper_frame = pd.DataFrame(whitepaper_vectors)"
   ]
  },
  {
   "cell_type": "markdown",
   "metadata": {},
   "source": [
    "### Cosine Similarity"
   ]
  },
  {
   "cell_type": "code",
   "execution_count": null,
   "metadata": {
    "scrolled": true
   },
   "outputs": [],
   "source": [
    "pd.DataFrame(cosine_similarity(whitepaper_frame.transpose()))"
   ]
  },
  {
   "cell_type": "markdown",
   "metadata": {},
   "source": [
    "### Cosine Distance"
   ]
  },
  {
   "cell_type": "code",
   "execution_count": null,
   "metadata": {},
   "outputs": [],
   "source": [
    "pd.DataFrame(cosine_distances(whitepaper_frame.transpose()))"
   ]
  },
  {
   "cell_type": "markdown",
   "metadata": {},
   "source": [
    "### Euclidean Distances"
   ]
  },
  {
   "cell_type": "code",
   "execution_count": null,
   "metadata": {},
   "outputs": [],
   "source": [
    "pd.DataFrame(euclidean_distances(whitepaper_frame.transpose()))"
   ]
  },
  {
   "cell_type": "code",
   "execution_count": null,
   "metadata": {},
   "outputs": [],
   "source": []
  }
 ],
 "metadata": {
  "kernelspec": {
   "display_name": "Python 3",
   "language": "python",
   "name": "python3"
  },
  "language_info": {
   "codemirror_mode": {
    "name": "ipython",
    "version": 3
   },
   "file_extension": ".py",
   "mimetype": "text/x-python",
   "name": "python",
   "nbconvert_exporter": "python",
   "pygments_lexer": "ipython3",
   "version": "3.5.2"
  }
 },
 "nbformat": 4,
 "nbformat_minor": 2
}
