{
 "cells": [
  {
   "cell_type": "code",
   "execution_count": 3,
   "metadata": {},
   "outputs": [],
   "source": [
    "import mechanicalsoup\n",
    "import requests\n",
    "import os\n",
    "import tika\n",
    "tika.initVM()\n",
    "from tika import parser"
   ]
  },
  {
   "cell_type": "markdown",
   "metadata": {},
   "source": [
    "## Define the functions for searching with duckduckgo"
   ]
  },
  {
   "cell_type": "code",
   "execution_count": null,
   "metadata": {},
   "outputs": [],
   "source": [
    "def search_with_duckduckgo(company):\n",
    "    browser = connect_to_duckduckgo()\n",
    "    hits = []\n",
    "    try:\n",
    "        browser.select_form('#search_form_homepage')\n",
    "        query = company + \" whitepaper filetype:pdf\"\n",
    "        browser[\"q\"] = query\n",
    "        browser.submit_selected()\n",
    "        hits = browser.get_current_page().select('a.result__a')\n",
    "    finally:\n",
    "        browser.close()\n",
    "    return hits\n",
    "\n",
    "def connect_to_duckduckgo():\n",
    "    browser = mechanicalsoup.StatefulBrowser(\n",
    "        user_agent='Mozilla/65',\n",
    "        raise_on_404=True,\n",
    "    )\n",
    "    browser.open(\"https://duckduckgo.com/\")\n",
    "    return browser"
   ]
  },
  {
   "cell_type": "markdown",
   "metadata": {},
   "source": [
    "## Load the data"
   ]
  },
  {
   "cell_type": "code",
   "execution_count": null,
   "metadata": {},
   "outputs": [],
   "source": [
    "with open('Misc/ICO_company_names.txt', 'r') as f:\n",
    "    company_names = [i.strip() for i in f.readlines()]\n",
    "companies_to_scrape = company_names"
   ]
  },
  {
   "cell_type": "markdown",
   "metadata": {},
   "source": [
    "## Search with duckduckgo"
   ]
  },
  {
   "cell_type": "code",
   "execution_count": null,
   "metadata": {},
   "outputs": [],
   "source": [
    "c = 0\n",
    "while companies_to_scrape:\n",
    "    company = companies_to_scrape[0]\n",
    "    print(\"\\n\" + company)\n",
    "    companies_to_scrape.pop(0)\n",
    "    \n",
    "    hits = search_with_duckduckgo(company)\n",
    "    if not hits:\n",
    "        companies_to_scrape.append(company)\n",
    "        continue\n",
    "        c += 1\n",
    "    else:\n",
    "        c = 0\n",
    "        for hit in hits:\n",
    "            href = hit.attrs['href']\n",
    "            print(href)\n",
    "            try:\n",
    "                r = requests.get(href)\n",
    "                if r.status_code == 200:\n",
    "                    with open(\"duckduckgo_results/\" + company + \".pdf\", 'wb') as f:\n",
    "                        f.write(r.content)\n",
    "                        print('success')\n",
    "                    break\n",
    "                else:\n",
    "                    continue\n",
    "            except: \n",
    "                continue\n",
    "    if c > len(company_names):\n",
    "        break"
   ]
  },
  {
   "cell_type": "markdown",
   "metadata": {},
   "source": [
    "## Evaluate Search Result"
   ]
  },
  {
   "cell_type": "code",
   "execution_count": null,
   "metadata": {},
   "outputs": [],
   "source": [
    "scraped = [f[:-4] for f in os.listdir('duckduckgo_results')]\n",
    "positives = [f for f in company_names if f in scraped]\n",
    "negatives = [f for f in company_names if f not in scraped]\n",
    "print('Positives: ', len(positives))\n",
    "print('Negatives: ', len(negatives))\n",
    "print(missing)"
   ]
  },
  {
   "cell_type": "code",
   "execution_count": null,
   "metadata": {},
   "outputs": [],
   "source": [
    "true_positives = []\n",
    "false_positives = []\n",
    "\n",
    "for company in positives:\n",
    "    print(company)\n",
    "    \n",
    "    raw = parser.from_file('duckduckgo_results/' + company +'.pdf')\n",
    "    raw_text = raw['content']\n",
    "    \n",
    "    try:\n",
    "        if company.lower() in raw_text.lower():\n",
    "            true_positives.append(company)\n",
    "        else:\n",
    "            false_positives.append(company)\n",
    "    except:\n",
    "        false_positives.append(company)\n",
    "\n",
    "print('True positives: ', len(true_positives))\n",
    "print('False positives: ', len(false_positives))"
   ]
  },
  {
   "cell_type": "code",
   "execution_count": null,
   "metadata": {},
   "outputs": [],
   "source": [
    "print(false_positives)"
   ]
  }
 ],
 "metadata": {
  "kernelspec": {
   "display_name": "Python 3",
   "language": "python",
   "name": "python3"
  },
  "language_info": {
   "codemirror_mode": {
    "name": "ipython",
    "version": 3
   },
   "file_extension": ".py",
   "mimetype": "text/x-python",
   "name": "python",
   "nbconvert_exporter": "python",
   "pygments_lexer": "ipython3",
   "version": "3.5.2"
  }
 },
 "nbformat": 4,
 "nbformat_minor": 2
}
